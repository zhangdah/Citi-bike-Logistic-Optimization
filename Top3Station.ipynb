{
 "cells": [
  {
   "cell_type": "code",
   "execution_count": 150,
   "metadata": {},
   "outputs": [],
   "source": [
    "import numpy as np\n",
    "import pandas as pd\n",
    "import matplotlib.pyplot as plt\n",
    "import seaborn as sns\n",
    "from collections import Counter"
   ]
  },
  {
   "cell_type": "code",
   "execution_count": 151,
   "metadata": {},
   "outputs": [
    {
     "name": "stderr",
     "output_type": "stream",
     "text": [
      "C:\\Users\\steve\\AppData\\Local\\Temp\\ipykernel_31740\\3156292589.py:20: UserWarning: Boolean Series key will be reindexed to match DataFrame index.\n",
      "  morning_df = df[morning_time]\n",
      "C:\\Users\\steve\\AppData\\Local\\Temp\\ipykernel_31740\\3156292589.py:21: UserWarning: Boolean Series key will be reindexed to match DataFrame index.\n",
      "  afternoon_df = df[afternoon_time]\n"
     ]
    },
    {
     "data": {
      "text/html": [
       "<div>\n",
       "<style scoped>\n",
       "    .dataframe tbody tr th:only-of-type {\n",
       "        vertical-align: middle;\n",
       "    }\n",
       "\n",
       "    .dataframe tbody tr th {\n",
       "        vertical-align: top;\n",
       "    }\n",
       "\n",
       "    .dataframe thead th {\n",
       "        text-align: right;\n",
       "    }\n",
       "</style>\n",
       "<table border=\"1\" class=\"dataframe\">\n",
       "  <thead>\n",
       "    <tr style=\"text-align: right;\">\n",
       "      <th></th>\n",
       "      <th>ride_id</th>\n",
       "      <th>rideable_type</th>\n",
       "      <th>started_at</th>\n",
       "      <th>ended_at</th>\n",
       "      <th>start_station_name</th>\n",
       "      <th>start_station_id</th>\n",
       "      <th>end_station_name</th>\n",
       "      <th>end_station_id</th>\n",
       "      <th>start_lat</th>\n",
       "      <th>start_lng</th>\n",
       "      <th>end_lat</th>\n",
       "      <th>end_lng</th>\n",
       "      <th>member_casual</th>\n",
       "      <th>day_of_week</th>\n",
       "      <th>start_time_interval</th>\n",
       "      <th>end_time_interval</th>\n",
       "    </tr>\n",
       "  </thead>\n",
       "  <tbody>\n",
       "    <tr>\n",
       "      <th>1</th>\n",
       "      <td>1A16C593C6EB804E</td>\n",
       "      <td>classic_bike</td>\n",
       "      <td>2023-07-19 06:27:35</td>\n",
       "      <td>2023-07-19 06:31:28</td>\n",
       "      <td>W 21 St &amp; 6 Ave</td>\n",
       "      <td>6140.05</td>\n",
       "      <td>W 20 St &amp; 10 Ave</td>\n",
       "      <td>6306.01</td>\n",
       "      <td>40.741740</td>\n",
       "      <td>-73.994156</td>\n",
       "      <td>40.745686</td>\n",
       "      <td>-74.005141</td>\n",
       "      <td>member</td>\n",
       "      <td>2</td>\n",
       "      <td>2023-07-19 06:20:00</td>\n",
       "      <td>2023-07-19 06:30:00</td>\n",
       "    </tr>\n",
       "    <tr>\n",
       "      <th>10</th>\n",
       "      <td>46B81A6426E7AE83</td>\n",
       "      <td>classic_bike</td>\n",
       "      <td>2023-07-12 11:59:48</td>\n",
       "      <td>2023-07-12 12:05:42</td>\n",
       "      <td>W 21 St &amp; 6 Ave</td>\n",
       "      <td>6140.05</td>\n",
       "      <td>W 29 St &amp; 9 Ave</td>\n",
       "      <td>6416.06</td>\n",
       "      <td>40.741740</td>\n",
       "      <td>-73.994156</td>\n",
       "      <td>40.750073</td>\n",
       "      <td>-73.998393</td>\n",
       "      <td>member</td>\n",
       "      <td>2</td>\n",
       "      <td>2023-07-12 11:50:00</td>\n",
       "      <td>2023-07-12 12:00:00</td>\n",
       "    </tr>\n",
       "    <tr>\n",
       "      <th>14</th>\n",
       "      <td>DEB00C17485C30BA</td>\n",
       "      <td>classic_bike</td>\n",
       "      <td>2023-07-05 10:03:20</td>\n",
       "      <td>2023-07-05 10:07:44</td>\n",
       "      <td>W 12 St &amp; Hudson St</td>\n",
       "      <td>5997.10</td>\n",
       "      <td>W 21 St &amp; 6 Ave</td>\n",
       "      <td>6140.05</td>\n",
       "      <td>40.737554</td>\n",
       "      <td>-74.005170</td>\n",
       "      <td>40.741740</td>\n",
       "      <td>-73.994156</td>\n",
       "      <td>member</td>\n",
       "      <td>2</td>\n",
       "      <td>2023-07-05 10:00:00</td>\n",
       "      <td>2023-07-05 10:00:00</td>\n",
       "    </tr>\n",
       "    <tr>\n",
       "      <th>18</th>\n",
       "      <td>F29D6DCBD6916157</td>\n",
       "      <td>classic_bike</td>\n",
       "      <td>2023-07-27 11:39:11</td>\n",
       "      <td>2023-07-27 13:13:27</td>\n",
       "      <td>5 Ave &amp; E 72 St</td>\n",
       "      <td>7100.07</td>\n",
       "      <td>W 21 St &amp; 6 Ave</td>\n",
       "      <td>6140.05</td>\n",
       "      <td>40.772828</td>\n",
       "      <td>-73.966853</td>\n",
       "      <td>40.741740</td>\n",
       "      <td>-73.994156</td>\n",
       "      <td>casual</td>\n",
       "      <td>3</td>\n",
       "      <td>2023-07-27 11:30:00</td>\n",
       "      <td>2023-07-27 13:10:00</td>\n",
       "    </tr>\n",
       "    <tr>\n",
       "      <th>19</th>\n",
       "      <td>A7A5705879556308</td>\n",
       "      <td>classic_bike</td>\n",
       "      <td>2023-07-27 11:40:34</td>\n",
       "      <td>2023-07-27 13:13:37</td>\n",
       "      <td>5 Ave &amp; E 72 St</td>\n",
       "      <td>7100.07</td>\n",
       "      <td>W 21 St &amp; 6 Ave</td>\n",
       "      <td>6140.05</td>\n",
       "      <td>40.772828</td>\n",
       "      <td>-73.966853</td>\n",
       "      <td>40.741740</td>\n",
       "      <td>-73.994156</td>\n",
       "      <td>casual</td>\n",
       "      <td>3</td>\n",
       "      <td>2023-07-27 11:40:00</td>\n",
       "      <td>2023-07-27 13:10:00</td>\n",
       "    </tr>\n",
       "    <tr>\n",
       "      <th>...</th>\n",
       "      <td>...</td>\n",
       "      <td>...</td>\n",
       "      <td>...</td>\n",
       "      <td>...</td>\n",
       "      <td>...</td>\n",
       "      <td>...</td>\n",
       "      <td>...</td>\n",
       "      <td>...</td>\n",
       "      <td>...</td>\n",
       "      <td>...</td>\n",
       "      <td>...</td>\n",
       "      <td>...</td>\n",
       "      <td>...</td>\n",
       "      <td>...</td>\n",
       "      <td>...</td>\n",
       "      <td>...</td>\n",
       "    </tr>\n",
       "    <tr>\n",
       "      <th>53661</th>\n",
       "      <td>3179A2B537FD914B</td>\n",
       "      <td>classic_bike</td>\n",
       "      <td>2023-07-07 11:25:50</td>\n",
       "      <td>2023-07-07 11:32:18</td>\n",
       "      <td>W 21 St &amp; 6 Ave</td>\n",
       "      <td>6140.05</td>\n",
       "      <td>W 22 St &amp; 10 Ave</td>\n",
       "      <td>6306.06</td>\n",
       "      <td>40.741740</td>\n",
       "      <td>-73.994156</td>\n",
       "      <td>40.746920</td>\n",
       "      <td>-74.004519</td>\n",
       "      <td>member</td>\n",
       "      <td>4</td>\n",
       "      <td>2023-07-07 11:20:00</td>\n",
       "      <td>2023-07-07 11:30:00</td>\n",
       "    </tr>\n",
       "    <tr>\n",
       "      <th>53670</th>\n",
       "      <td>43F4CEE35FC4D2E9</td>\n",
       "      <td>classic_bike</td>\n",
       "      <td>2023-07-21 06:42:35</td>\n",
       "      <td>2023-07-21 06:49:03</td>\n",
       "      <td>W 21 St &amp; 6 Ave</td>\n",
       "      <td>6140.05</td>\n",
       "      <td>Washington Pl &amp; Broadway</td>\n",
       "      <td>5755.01</td>\n",
       "      <td>40.741804</td>\n",
       "      <td>-73.994128</td>\n",
       "      <td>40.729039</td>\n",
       "      <td>-73.994046</td>\n",
       "      <td>member</td>\n",
       "      <td>4</td>\n",
       "      <td>2023-07-21 06:40:00</td>\n",
       "      <td>2023-07-21 06:40:00</td>\n",
       "    </tr>\n",
       "    <tr>\n",
       "      <th>53736</th>\n",
       "      <td>6A7D1E40A36ED11D</td>\n",
       "      <td>classic_bike</td>\n",
       "      <td>2023-07-14 06:44:23</td>\n",
       "      <td>2023-07-14 07:02:43</td>\n",
       "      <td>W 21 St &amp; 6 Ave</td>\n",
       "      <td>6140.05</td>\n",
       "      <td>Central Park W &amp; W 97 St</td>\n",
       "      <td>7538.18</td>\n",
       "      <td>40.773403</td>\n",
       "      <td>-73.977927</td>\n",
       "      <td>40.792495</td>\n",
       "      <td>-73.964171</td>\n",
       "      <td>member</td>\n",
       "      <td>4</td>\n",
       "      <td>2023-07-14 06:40:00</td>\n",
       "      <td>2023-07-14 07:00:00</td>\n",
       "    </tr>\n",
       "    <tr>\n",
       "      <th>53743</th>\n",
       "      <td>91A1238938A6A6A1</td>\n",
       "      <td>classic_bike</td>\n",
       "      <td>2023-07-21 10:40:55</td>\n",
       "      <td>2023-07-21 11:19:15</td>\n",
       "      <td>W 21 St &amp; 6 Ave</td>\n",
       "      <td>6140.05</td>\n",
       "      <td>Central Ave &amp; Woodbine St</td>\n",
       "      <td>4632.10</td>\n",
       "      <td>40.741848</td>\n",
       "      <td>-73.994220</td>\n",
       "      <td>40.692960</td>\n",
       "      <td>-73.916050</td>\n",
       "      <td>casual</td>\n",
       "      <td>4</td>\n",
       "      <td>2023-07-21 10:40:00</td>\n",
       "      <td>2023-07-21 11:10:00</td>\n",
       "    </tr>\n",
       "    <tr>\n",
       "      <th>53749</th>\n",
       "      <td>B3F8B1A2F63B3683</td>\n",
       "      <td>classic_bike</td>\n",
       "      <td>2023-07-26 11:54:26</td>\n",
       "      <td>2023-07-26 11:59:53</td>\n",
       "      <td>W 21 St &amp; 6 Ave</td>\n",
       "      <td>6140.05</td>\n",
       "      <td>W 18 St &amp; 9 Ave</td>\n",
       "      <td>6190.03</td>\n",
       "      <td>40.741740</td>\n",
       "      <td>-73.994156</td>\n",
       "      <td>40.743534</td>\n",
       "      <td>-74.003676</td>\n",
       "      <td>member</td>\n",
       "      <td>2</td>\n",
       "      <td>2023-07-26 11:50:00</td>\n",
       "      <td>2023-07-26 11:50:00</td>\n",
       "    </tr>\n",
       "  </tbody>\n",
       "</table>\n",
       "<p>5898 rows × 16 columns</p>\n",
       "</div>"
      ],
      "text/plain": [
       "                ride_id rideable_type          started_at            ended_at  \\\n",
       "1      1A16C593C6EB804E  classic_bike 2023-07-19 06:27:35 2023-07-19 06:31:28   \n",
       "10     46B81A6426E7AE83  classic_bike 2023-07-12 11:59:48 2023-07-12 12:05:42   \n",
       "14     DEB00C17485C30BA  classic_bike 2023-07-05 10:03:20 2023-07-05 10:07:44   \n",
       "18     F29D6DCBD6916157  classic_bike 2023-07-27 11:39:11 2023-07-27 13:13:27   \n",
       "19     A7A5705879556308  classic_bike 2023-07-27 11:40:34 2023-07-27 13:13:37   \n",
       "...                 ...           ...                 ...                 ...   \n",
       "53661  3179A2B537FD914B  classic_bike 2023-07-07 11:25:50 2023-07-07 11:32:18   \n",
       "53670  43F4CEE35FC4D2E9  classic_bike 2023-07-21 06:42:35 2023-07-21 06:49:03   \n",
       "53736  6A7D1E40A36ED11D  classic_bike 2023-07-14 06:44:23 2023-07-14 07:02:43   \n",
       "53743  91A1238938A6A6A1  classic_bike 2023-07-21 10:40:55 2023-07-21 11:19:15   \n",
       "53749  B3F8B1A2F63B3683  classic_bike 2023-07-26 11:54:26 2023-07-26 11:59:53   \n",
       "\n",
       "        start_station_name  start_station_id           end_station_name  \\\n",
       "1          W 21 St & 6 Ave           6140.05           W 20 St & 10 Ave   \n",
       "10         W 21 St & 6 Ave           6140.05            W 29 St & 9 Ave   \n",
       "14     W 12 St & Hudson St           5997.10            W 21 St & 6 Ave   \n",
       "18         5 Ave & E 72 St           7100.07            W 21 St & 6 Ave   \n",
       "19         5 Ave & E 72 St           7100.07            W 21 St & 6 Ave   \n",
       "...                    ...               ...                        ...   \n",
       "53661      W 21 St & 6 Ave           6140.05           W 22 St & 10 Ave   \n",
       "53670      W 21 St & 6 Ave           6140.05   Washington Pl & Broadway   \n",
       "53736      W 21 St & 6 Ave           6140.05   Central Park W & W 97 St   \n",
       "53743      W 21 St & 6 Ave           6140.05  Central Ave & Woodbine St   \n",
       "53749      W 21 St & 6 Ave           6140.05            W 18 St & 9 Ave   \n",
       "\n",
       "      end_station_id  start_lat  start_lng    end_lat    end_lng  \\\n",
       "1            6306.01  40.741740 -73.994156  40.745686 -74.005141   \n",
       "10           6416.06  40.741740 -73.994156  40.750073 -73.998393   \n",
       "14           6140.05  40.737554 -74.005170  40.741740 -73.994156   \n",
       "18           6140.05  40.772828 -73.966853  40.741740 -73.994156   \n",
       "19           6140.05  40.772828 -73.966853  40.741740 -73.994156   \n",
       "...              ...        ...        ...        ...        ...   \n",
       "53661        6306.06  40.741740 -73.994156  40.746920 -74.004519   \n",
       "53670        5755.01  40.741804 -73.994128  40.729039 -73.994046   \n",
       "53736        7538.18  40.773403 -73.977927  40.792495 -73.964171   \n",
       "53743        4632.10  40.741848 -73.994220  40.692960 -73.916050   \n",
       "53749        6190.03  40.741740 -73.994156  40.743534 -74.003676   \n",
       "\n",
       "      member_casual  day_of_week start_time_interval   end_time_interval  \n",
       "1            member            2 2023-07-19 06:20:00 2023-07-19 06:30:00  \n",
       "10           member            2 2023-07-12 11:50:00 2023-07-12 12:00:00  \n",
       "14           member            2 2023-07-05 10:00:00 2023-07-05 10:00:00  \n",
       "18           casual            3 2023-07-27 11:30:00 2023-07-27 13:10:00  \n",
       "19           casual            3 2023-07-27 11:40:00 2023-07-27 13:10:00  \n",
       "...             ...          ...                 ...                 ...  \n",
       "53661        member            4 2023-07-07 11:20:00 2023-07-07 11:30:00  \n",
       "53670        member            4 2023-07-21 06:40:00 2023-07-21 06:40:00  \n",
       "53736        member            4 2023-07-14 06:40:00 2023-07-14 07:00:00  \n",
       "53743        casual            4 2023-07-21 10:40:00 2023-07-21 11:10:00  \n",
       "53749        member            2 2023-07-26 11:50:00 2023-07-26 11:50:00  \n",
       "\n",
       "[5898 rows x 16 columns]"
      ]
     },
     "execution_count": 151,
     "metadata": {},
     "output_type": "execute_result"
    }
   ],
   "source": [
    "file_path = 'top_three_stations_data.csv'\n",
    "df = pd.read_csv(file_path)\n",
    "target_station = ['W 21 St & 6 Ave', 'West St & Chambers St', '11 Ave & W 41 St']\n",
    "# Convert str to datetime\n",
    "df['started_at'] = pd.to_datetime(df['started_at'])\n",
    "df['ended_at'] = pd.to_datetime(df['ended_at'])\n",
    "\n",
    "# Create a filter for time\n",
    "morning_time= (df['started_at'].dt.hour >= 6) & (df['started_at'].dt.hour < 12)\n",
    "afternoon_time = (df['started_at'].dt.hour >= 16) & (df['started_at'].dt.hour < 23)\n",
    "\n",
    "# Filter Out required data\n",
    "df = df[morning_time | afternoon_time]\n",
    "\n",
    "df['start_time_interval'] = df['started_at'].dt.floor('10T')\n",
    "df['end_time_interval'] = df['ended_at'].dt.floor('10T')\n",
    "\n",
    "\n",
    "# # Split into morning and afternoon parts\n",
    "morning_df = df[morning_time]\n",
    "afternoon_df = df[afternoon_time]\n",
    "\n",
    "station_w21St6ave_morning = morning_df[(morning_df['start_station_name'] == 'W 21 St & 6 Ave') | (morning_df['end_station_name'] == 'W 21 St & 6 Ave')]\n",
    "station_w21St6ave_morning\n",
    "\n"
   ]
  },
  {
   "cell_type": "code",
   "execution_count": 152,
   "metadata": {},
   "outputs": [],
   "source": [
    "# df = pd.read_csv(file_path)\n",
    "# df.value_counts('start_station_name')[:3]"
   ]
  },
  {
   "cell_type": "markdown",
   "metadata": {},
   "source": [
    "## W 21 St & 6 Ave"
   ]
  },
  {
   "cell_type": "code",
   "execution_count": 153,
   "metadata": {},
   "outputs": [],
   "source": [
    "out_count_per_5_min = station_w21St6ave_morning[station_w21St6ave_morning['start_station_name'] == 'W 21 St & 6 Ave']['start_time_interval'].value_counts()\n",
    "in_count_per_5_min = station_w21St6ave_morning[station_w21St6ave_morning['end_station_name'] == 'W 21 St & 6 Ave']['end_time_interval'].value_counts()"
   ]
  },
  {
   "cell_type": "code",
   "execution_count": 154,
   "metadata": {},
   "outputs": [
    {
     "data": {
      "text/html": [
       "<div>\n",
       "<style scoped>\n",
       "    .dataframe tbody tr th:only-of-type {\n",
       "        vertical-align: middle;\n",
       "    }\n",
       "\n",
       "    .dataframe tbody tr th {\n",
       "        vertical-align: top;\n",
       "    }\n",
       "\n",
       "    .dataframe thead th {\n",
       "        text-align: right;\n",
       "    }\n",
       "</style>\n",
       "<table border=\"1\" class=\"dataframe\">\n",
       "  <thead>\n",
       "    <tr style=\"text-align: right;\">\n",
       "      <th></th>\n",
       "      <th>in_count</th>\n",
       "      <th>out_count</th>\n",
       "      <th>final_count</th>\n",
       "    </tr>\n",
       "  </thead>\n",
       "  <tbody>\n",
       "    <tr>\n",
       "      <th>2023-07-03 06:20:00</th>\n",
       "      <td>1.0</td>\n",
       "      <td>0.0</td>\n",
       "      <td>1</td>\n",
       "    </tr>\n",
       "    <tr>\n",
       "      <th>2023-07-03 06:30:00</th>\n",
       "      <td>0.0</td>\n",
       "      <td>1.0</td>\n",
       "      <td>-1</td>\n",
       "    </tr>\n",
       "    <tr>\n",
       "      <th>2023-07-03 06:40:00</th>\n",
       "      <td>2.0</td>\n",
       "      <td>1.0</td>\n",
       "      <td>1</td>\n",
       "    </tr>\n",
       "    <tr>\n",
       "      <th>2023-07-03 06:50:00</th>\n",
       "      <td>2.0</td>\n",
       "      <td>0.0</td>\n",
       "      <td>2</td>\n",
       "    </tr>\n",
       "    <tr>\n",
       "      <th>2023-07-03 07:30:00</th>\n",
       "      <td>2.0</td>\n",
       "      <td>1.0</td>\n",
       "      <td>1</td>\n",
       "    </tr>\n",
       "    <tr>\n",
       "      <th>...</th>\n",
       "      <td>...</td>\n",
       "      <td>...</td>\n",
       "      <td>...</td>\n",
       "    </tr>\n",
       "    <tr>\n",
       "      <th>2023-07-31 11:20:00</th>\n",
       "      <td>4.0</td>\n",
       "      <td>5.0</td>\n",
       "      <td>-1</td>\n",
       "    </tr>\n",
       "    <tr>\n",
       "      <th>2023-07-31 11:30:00</th>\n",
       "      <td>6.0</td>\n",
       "      <td>6.0</td>\n",
       "      <td>0</td>\n",
       "    </tr>\n",
       "    <tr>\n",
       "      <th>2023-07-31 11:40:00</th>\n",
       "      <td>1.0</td>\n",
       "      <td>3.0</td>\n",
       "      <td>-2</td>\n",
       "    </tr>\n",
       "    <tr>\n",
       "      <th>2023-07-31 11:50:00</th>\n",
       "      <td>6.0</td>\n",
       "      <td>0.0</td>\n",
       "      <td>6</td>\n",
       "    </tr>\n",
       "    <tr>\n",
       "      <th>2023-07-31 12:00:00</th>\n",
       "      <td>6.0</td>\n",
       "      <td>0.0</td>\n",
       "      <td>6</td>\n",
       "    </tr>\n",
       "  </tbody>\n",
       "</table>\n",
       "<p>770 rows × 3 columns</p>\n",
       "</div>"
      ],
      "text/plain": [
       "                     in_count  out_count  final_count\n",
       "2023-07-03 06:20:00       1.0        0.0            1\n",
       "2023-07-03 06:30:00       0.0        1.0           -1\n",
       "2023-07-03 06:40:00       2.0        1.0            1\n",
       "2023-07-03 06:50:00       2.0        0.0            2\n",
       "2023-07-03 07:30:00       2.0        1.0            1\n",
       "...                       ...        ...          ...\n",
       "2023-07-31 11:20:00       4.0        5.0           -1\n",
       "2023-07-31 11:30:00       6.0        6.0            0\n",
       "2023-07-31 11:40:00       1.0        3.0           -2\n",
       "2023-07-31 11:50:00       6.0        0.0            6\n",
       "2023-07-31 12:00:00       6.0        0.0            6\n",
       "\n",
       "[770 rows x 3 columns]"
      ]
     },
     "execution_count": 154,
     "metadata": {},
     "output_type": "execute_result"
    }
   ],
   "source": [
    "station_w21St6ave_count = pd.concat([in_count_per_5_min, out_count_per_5_min], axis=1).rename(columns = {'end_time_interval': 'in_count', 'start_time_interval': 'out_count'})\n",
    "station_w21St6ave_count.fillna(0, inplace=True)\n",
    "station_w21St6ave_count['final_count'] = station_w21St6ave_count['in_count'] - station_w21St6ave_count['out_count']\n",
    "station_w21St6ave_count['final_count'] = station_w21St6ave_count['final_count'].astype(int)\n",
    "station_w21St6ave_count"
   ]
  },
  {
   "cell_type": "code",
   "execution_count": 155,
   "metadata": {},
   "outputs": [
    {
     "data": {
      "text/plain": [
       "{-11: 1,\n",
       " -7: 2,\n",
       " -6: 5,\n",
       " -5: 9,\n",
       " -4: 14,\n",
       " -3: 31,\n",
       " -2: 65,\n",
       " -1: 88,\n",
       " 0: 103,\n",
       " 1: 138,\n",
       " 2: 103,\n",
       " 3: 68,\n",
       " 4: 53,\n",
       " 5: 31,\n",
       " 6: 29,\n",
       " 7: 16,\n",
       " 8: 4,\n",
       " 9: 6,\n",
       " 10: 2,\n",
       " 11: 2}"
      ]
     },
     "execution_count": 155,
     "metadata": {},
     "output_type": "execute_result"
    }
   ],
   "source": [
    "station_w21St6ave_dict = dict(sorted(Counter(station_w21St6ave_count['final_count']).items()))\n",
    "station_w21St6ave_dict"
   ]
  },
  {
   "cell_type": "code",
   "execution_count": 156,
   "metadata": {},
   "outputs": [
    {
     "data": {
      "text/plain": [
       "<BarContainer object of 20 artists>"
      ]
     },
     "execution_count": 156,
     "metadata": {},
     "output_type": "execute_result"
    },
    {
     "data": {
      "image/png": "[encoded data removed]",
      "text/plain": [
       "<Figure size 640x480 with 1 Axes>"
      ]
     },
     "metadata": {},
     "output_type": "display_data"
    }
   ],
   "source": [
    "plt.bar(station_w21St6ave_dict.keys(), station_w21St6ave_dict.values())"
   ]
  },
  {
   "cell_type": "code",
   "execution_count": 157,
   "metadata": {},
   "outputs": [],
   "source": [
    "# station_w21St6ave_dict"
   ]
  },
  {
   "cell_type": "code",
   "execution_count": 158,
   "metadata": {},
   "outputs": [
    {
     "data": {
      "text/plain": [
       "array([[0.18558559, 0.24864865, 0.18558559, ..., 0.        , 0.        ,\n",
       "        0.        ],\n",
       "       [0.13685848, 0.16018663, 0.21461897, ..., 0.        , 0.        ,\n",
       "        0.        ],\n",
       "       [0.09180791, 0.12429379, 0.14548023, ..., 0.        , 0.        ,\n",
       "        0.        ],\n",
       "       ...,\n",
       "       [0.        , 0.        , 0.        , ..., 0.1842576 , 0.24686941,\n",
       "        0.1842576 ],\n",
       "       [0.        , 0.        , 0.        , ..., 0.19298246, 0.22587719,\n",
       "        0.30263158],\n",
       "       [0.        , 0.        , 0.        , ..., 0.20440252, 0.27672956,\n",
       "        0.32389937]])"
      ]
     },
     "execution_count": 158,
     "metadata": {},
     "output_type": "execute_result"
    }
   ],
   "source": [
    "# station with 52 docks\n",
    "docks = 52\n",
    "\n",
    "def create_transition_matrix(docks, bike_change_dict):\n",
    "    changes = list(bike_change_dict.keys())\n",
    "    frequency = list(bike_change_dict.values())\n",
    "    matrix = np.zeros((docks + 1, docks + 1))\n",
    "    for i in range(matrix.shape[0]):\n",
    "        for j in range(matrix.shape[1]):\n",
    "            if (j - i) in changes:\n",
    "                matrix[i][j] = bike_change_dict[j - i]\n",
    "        matrix[i] = matrix[i]/sum(matrix[i])\n",
    "    return matrix\n",
    "\n",
    "def verify_row_sum_to_one(matrix):\n",
    "    row_sums = np.sum(matrix, axis=1)\n",
    "    return np.allclose(row_sums, 1)\n",
    "\n",
    "station_w21St6ave_matrix = create_transition_matrix(docks, station_w21St6ave_dict)\n",
    "station_w21St6ave_matrix"
   ]
  },
  {
   "cell_type": "code",
   "execution_count": 159,
   "metadata": {},
   "outputs": [
    {
     "data": {
      "text/plain": [
       "True"
      ]
     },
     "execution_count": 159,
     "metadata": {},
     "output_type": "execute_result"
    }
   ],
   "source": [
    "verify_row_sum_to_one(station_w21St6ave_matrix)"
   ]
  },
  {
   "cell_type": "code",
   "execution_count": 160,
   "metadata": {},
   "outputs": [
    {
     "data": {
      "text/plain": [
       "(53, 53)"
      ]
     },
     "execution_count": 160,
     "metadata": {},
     "output_type": "execute_result"
    }
   ],
   "source": [
    "create_transition_matrix(docks, station_w21St6ave_dict).shape"
   ]
  },
  {
   "cell_type": "code",
   "execution_count": 161,
   "metadata": {},
   "outputs": [
    {
     "data": {
      "text/plain": [
       "array([[0.18558559, 0.24864865, 0.18558559, ..., 0.        , 0.        ,\n",
       "        0.        ],\n",
       "       [0.13685848, 0.16018663, 0.21461897, ..., 0.        , 0.        ,\n",
       "        0.        ],\n",
       "       [0.09180791, 0.12429379, 0.14548023, ..., 0.        , 0.        ,\n",
       "        0.        ],\n",
       "       ...,\n",
       "       [0.        , 0.        , 0.        , ..., 0.1842576 , 0.24686941,\n",
       "        0.1842576 ],\n",
       "       [0.        , 0.        , 0.        , ..., 0.19298246, 0.22587719,\n",
       "        0.30263158],\n",
       "       [0.        , 0.        , 0.        , ..., 0.20440252, 0.27672956,\n",
       "        0.32389937]])"
      ]
     },
     "execution_count": 161,
     "metadata": {},
     "output_type": "execute_result"
    }
   ],
   "source": [
    "station_w21St6ave_matrix"
   ]
  },
  {
   "cell_type": "code",
   "execution_count": 162,
   "metadata": {},
   "outputs": [
    {
     "name": "stdout",
     "output_type": "stream",
     "text": [
      "Stationary Distribution: [1.29706981e-07 2.04215260e-07 2.94761190e-07 4.05730757e-07\n",
      " 5.48499869e-07 7.31878434e-07 9.73072943e-07 1.28817682e-06\n",
      " 1.70066864e-06 2.24456142e-06 2.96042193e-06 3.90364371e-06\n",
      " 5.14601542e-06 6.78365943e-06 8.94239997e-06 1.17880174e-05\n",
      " 1.55391625e-05 2.04838810e-05 2.70020363e-05 3.55944847e-05\n",
      " 4.69203418e-05 6.18514946e-05 8.15344671e-05 1.07481068e-04\n",
      " 1.41681101e-04 1.86761850e-04 2.46186372e-04 3.24534447e-04\n",
      " 4.27810135e-04 5.63928360e-04 7.43442319e-04 9.79435898e-04\n",
      " 1.29147974e-03 1.70329051e-03 2.24639814e-03 2.96110507e-03\n",
      " 3.90233330e-03 5.14125402e-03 6.78103513e-03 8.93875821e-03\n",
      " 1.17726088e-02 1.55606643e-02 1.99619871e-02 2.64482056e-02\n",
      " 3.51233975e-02 4.67414488e-02 6.10072009e-02 7.82090316e-02\n",
      " 9.85501654e-02 1.22541651e-01 1.44558020e-01 1.52891804e-01\n",
      " 1.49609929e-01]\n"
     ]
    }
   ],
   "source": [
    "def calculate_stationary_distribution(transition_matrix):\n",
    "    # Transpose the transition matrix to find left eigenvectors\n",
    "    transposed_matrix = np.transpose(transition_matrix)\n",
    "\n",
    "    # Calculate the eigenvalues and eigenvectors\n",
    "    eigenvalues, eigenvectors = np.linalg.eig(transposed_matrix)\n",
    "\n",
    "    # Find the index corresponding to the eigenvalue 1\n",
    "    index = np.where(np.isclose(eigenvalues, 1))[0][0]\n",
    "\n",
    "    # Extract the corresponding eigenvector\n",
    "    stationary_distribution = np.real(eigenvectors[:, index])\n",
    "\n",
    "    # Normalize the stationary distribution to sum to 1\n",
    "    stationary_distribution /= np.sum(stationary_distribution)\n",
    "\n",
    "    return stationary_distribution\n",
    "\n",
    "stationary_distribution = calculate_stationary_distribution(station_w21St6ave_matrix)\n",
    "print(\"Stationary Distribution:\", stationary_distribution)"
   ]
  },
  {
   "cell_type": "code",
   "execution_count": 163,
   "metadata": {},
   "outputs": [
    {
     "data": {
      "text/plain": [
       "<BarContainer object of 53 artists>"
      ]
     },
     "execution_count": 163,
     "metadata": {},
     "output_type": "execute_result"
    },
    {
     "data": {
      "image/png": "[encoded data removed]",
      "text/plain": [
       "<Figure size 640x480 with 1 Axes>"
      ]
     },
     "metadata": {},
     "output_type": "display_data"
    }
   ],
   "source": [
    "plt.bar(range(53), stationary_distribution)"
   ]
  },
  {
   "cell_type": "code",
   "execution_count": 164,
   "metadata": {},
   "outputs": [
    {
     "name": "stdout",
     "output_type": "stream",
     "text": [
      "48.083194233752735\n"
     ]
    }
   ],
   "source": [
    "def exp_cal(stationary_distribution):\n",
    "    expectation = 0\n",
    "    for num in range(53):\n",
    "        expectation += num * stationary_distribution[num]\n",
    "    return expectation\n",
    "\n",
    "result = exp_cal(stationary_distribution)\n",
    "print(result)"
   ]
  }
 ],
 "metadata": {
  "kernelspec": {
   "display_name": "Python 3",
   "language": "python",
   "name": "python3"
  },
  "language_info": {
   "codemirror_mode": {
    "name": "ipython",
    "version": 3
   },
   "file_extension": ".py",
   "mimetype": "text/x-python",
   "name": "python",
   "nbconvert_exporter": "python",
   "pygments_lexer": "ipython3",
   "version": "3.8.10"
  }
 },
 "nbformat": 4,
 "nbformat_minor": 2
}
